{
 "cells": [
  {
   "cell_type": "markdown",
   "metadata": {},
   "source": [
    "<center>\n",
    "    <img src=\"https://cf-courses-data.s3.us.cloud-object-storage.appdomain.cloud/IBMDeveloperSkillsNetwork-DS0105EN-SkillsNetwork/labs/Module2/images/SN_web_lightmode.png\" width=\"300\" alt=\"cognitiveclass.ai logo\">\n",
    "</center>\n"
   ]
  },
  {
   "cell_type": "markdown",
   "metadata": {
    "jp-MarkdownHeadingCollapsed": true,
    "tags": []
   },
   "source": [
    "#### Add your code below following the instructions given in the course\n"
   ]
  },
  {
   "cell_type": "markdown",
   "metadata": {},
   "source": [
    "# My final assignment notebook on tools for data science "
   ]
  },
  {
   "cell_type": "markdown",
   "metadata": {},
   "source": [
    "**This assignment shows the usage of Jupyter notebook as a major tools for data scientist.**\n",
    "\n",
    "\n",
    "**This notebook shows different cell types in Jupyter notebook like markdown and code cells**\n",
    "\n",
    "\n"
   ]
  },
  {
   "cell_type": "markdown",
   "metadata": {},
   "source": [
    "## _Data Science Languages_ ##\n",
    "\n",
    "* R language \n",
    "* SQL\n",
    "* Python\n",
    "* JavaScript"
   ]
  },
  {
   "cell_type": "markdown",
   "metadata": {},
   "source": [
    "### Data Science Libraries ###\n",
    "\n",
    "1. Pandas\n",
    "1. Numpy and SciPy\n",
    "1. Matplotlib\n",
    "1. Seaborn\n",
    "1. Sci-kit learn\n",
    "1. Tensorflow and Keras\n",
    "1. Apache Spark"
   ]
  },
  {
   "cell_type": "markdown",
   "metadata": {},
   "source": [
    "### Table for data science Tools\n",
    "\n",
    "|s/n| Tools|\n",
    "|:-:|:-:|\n",
    "|1| Mysql|\n",
    "|2| PostgreSQL|\n",
    "|3| Apache Airflow|\n",
    "|4| KubeFlow|"
   ]
  },
  {
   "cell_type": "markdown",
   "metadata": {},
   "source": [
    "#### Addition and multiplication of two numbers"
   ]
  },
  {
   "cell_type": "code",
   "execution_count": 1,
   "metadata": {},
   "outputs": [
    {
     "data": {
      "text/plain": [
       "13104"
      ]
     },
     "execution_count": 1,
     "metadata": {},
     "output_type": "execute_result"
    }
   ],
   "source": [
    "234* 56"
   ]
  },
  {
   "cell_type": "code",
   "execution_count": 2,
   "metadata": {},
   "outputs": [
    {
     "data": {
      "text/plain": [
       "868"
      ]
     },
     "execution_count": 2,
     "metadata": {},
     "output_type": "execute_result"
    }
   ],
   "source": [
    "56 +812"
   ]
  },
  {
   "cell_type": "markdown",
   "metadata": {
    "jupyter": {
     "source_hidden": true
    },
    "tags": []
   },
   "source": [
    "#### This cell shows link, bulleted list, numbered list ###\n",
    "\n",
    "[This is the link to the assignment on gitHub](https://github.com/bsaheed/dataproject/blob/main/Final%20assignment%20for%20data%20science%20tools.ipynb)\n",
    "\n",
    "\n",
    "for the bulleted list \n",
    "\n",
    "* item one\n",
    "* item two \n",
    "* item three\n",
    "\n",
    "for the numbered item \n",
    "1. item one\n",
    "1. item two \n",
    "1. item three\n"
   ]
  },
  {
   "cell_type": "code",
   "execution_count": 4,
   "metadata": {},
   "outputs": [
    {
     "name": "stdout",
     "output_type": "stream",
     "text": [
      "0.6666666666666666 hour\n"
     ]
    }
   ],
   "source": [
    "# code to convert minute to hours\n",
    "\n",
    "def min2hr (min) :\n",
    "    return min/60 \n",
    "\n",
    "#test with 40 minutes\n",
    "\n",
    "print(min2hr(40), 'hour' ) "
   ]
  },
  {
   "cell_type": "markdown",
   "metadata": {},
   "source": [
    "#### Objectives of this assignment \n",
    "\n",
    "1. To introduce learners to Jupyter Notebook and its functionality\n",
    "2. To show different cell types in Jupyter Notebook \n",
    "3. To introduce text formatting in Jupyter Notebook "
   ]
  },
  {
   "cell_type": "code",
   "execution_count": null,
   "metadata": {},
   "outputs": [],
   "source": [
    "#### AUTHOR'S NAME\n",
    "**BELLO SAHEED ADEMOLA**"
   ]
  }
 ],
 "metadata": {
  "kernelspec": {
   "display_name": "Python",
   "language": "python",
   "name": "conda-env-python-py"
  },
  "language_info": {
   "codemirror_mode": {
    "name": "ipython",
    "version": 3
   },
   "file_extension": ".py",
   "mimetype": "text/x-python",
   "name": "python",
   "nbconvert_exporter": "python",
   "pygments_lexer": "ipython3",
   "version": "3.7.12"
  }
 },
 "nbformat": 4,
 "nbformat_minor": 4
}
